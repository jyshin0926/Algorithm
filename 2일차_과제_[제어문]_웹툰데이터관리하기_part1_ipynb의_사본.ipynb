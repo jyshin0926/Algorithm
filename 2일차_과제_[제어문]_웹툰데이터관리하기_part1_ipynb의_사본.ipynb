{
  "nbformat": 4,
  "nbformat_minor": 0,
  "metadata": {
    "colab": {
      "name": "2일차_과제_[제어문]_웹툰데이터관리하기_part1.ipynb의 사본",
      "provenance": [],
      "collapsed_sections": [],
      "include_colab_link": true
    },
    "kernelspec": {
      "name": "python3",
      "display_name": "Python 3"
    }
  },
  "cells": [
    {
      "cell_type": "markdown",
      "metadata": {
        "id": "view-in-github",
        "colab_type": "text"
      },
      "source": [
        "<a href=\"https://colab.research.google.com/github/jyshin0926/Algorithm/blob/master/2%EC%9D%BC%EC%B0%A8_%EA%B3%BC%EC%A0%9C_%5B%EC%A0%9C%EC%96%B4%EB%AC%B8%5D_%EC%9B%B9%ED%88%B0%EB%8D%B0%EC%9D%B4%ED%84%B0%EA%B4%80%EB%A6%AC%ED%95%98%EA%B8%B0_part1_ipynb%EC%9D%98_%EC%82%AC%EB%B3%B8.ipynb\" target=\"_parent\"><img src=\"https://colab.research.google.com/assets/colab-badge.svg\" alt=\"Open In Colab\"/></a>"
      ]
    },
    {
      "cell_type": "code",
      "metadata": {
        "id": "TWUpDCIWsFeo",
        "colab_type": "code",
        "outputId": "bcef7f6b-726f-4713-beaf-a25fafb53be0",
        "colab": {
          "base_uri": "https://localhost:8080/",
          "height": 34
        }
      },
      "source": [
        "import requests\n",
        "from bs4 import BeautifulSoup\n",
        "\n",
        "url = 'https://comic.naver.com/webtoon/weekdayList.nhn?week=mon'\n",
        "\n",
        "resp = requests.get(url)\n",
        "\n",
        "soup = BeautifulSoup(resp.content, 'lxml')\n",
        "title_tag = soup.select('ul.img_list li dl dt a')\n",
        "author_tag = soup.select('ul.img_list li dl dd a')\n",
        "rating_tag = soup.select('ul.img_list li dl dd strong')\n",
        "\n",
        "len(rating_tag)"
      ],
      "execution_count": 1,
      "outputs": [
        {
          "output_type": "execute_result",
          "data": {
            "text/plain": [
              "51"
            ]
          },
          "metadata": {
            "tags": []
          },
          "execution_count": 1
        }
      ]
    },
    {
      "cell_type": "code",
      "metadata": {
        "id": "xfU8XBU3FFFy",
        "colab_type": "code",
        "outputId": "bb0b8021-c2b1-4797-9497-d5cc0fc2af92",
        "colab": {
          "base_uri": "https://localhost:8080/",
          "height": 907
        }
      },
      "source": [
        "title_tag"
      ],
      "execution_count": 2,
      "outputs": [
        {
          "output_type": "execute_result",
          "data": {
            "text/plain": [
              "[<a href=\"/webtoon/list.nhn?titleId=733766&amp;weekday=mon\" title=\"인생존망\">인생존망</a>,\n",
              " <a href=\"/webtoon/list.nhn?titleId=183559&amp;weekday=mon\" title=\"신의 탑\">신의 탑</a>,\n",
              " <a href=\"/webtoon/list.nhn?titleId=602910&amp;weekday=mon\" title=\"윈드브레이커\">윈드브레이커</a>,\n",
              " <a href=\"/webtoon/list.nhn?titleId=654774&amp;weekday=mon\" title=\"소녀의 세계\">소녀의 세계</a>,\n",
              " <a href=\"/webtoon/list.nhn?titleId=648419&amp;weekday=mon\" title=\"뷰티풀 군바리\">뷰티풀 군바리</a>,\n",
              " <a href=\"/webtoon/list.nhn?titleId=733074&amp;weekday=mon\" title=\"백수세끼\">백수세끼</a>,\n",
              " <a href=\"/webtoon/list.nhn?titleId=728750&amp;weekday=mon\" title=\"장씨세가 호위무사\">장씨세가 호위...</a>,\n",
              " <a href=\"/webtoon/list.nhn?titleId=729946&amp;weekday=mon\" title=\"악취\">악취</a>,\n",
              " <a href=\"/webtoon/list.nhn?titleId=730174&amp;weekday=mon\" title=\"칼가는 소녀\">칼가는 소녀</a>,\n",
              " <a href=\"/webtoon/list.nhn?titleId=709731&amp;weekday=mon\" title=\"유일무이 로맨스\">유일무이 로맨스</a>,\n",
              " <a href=\"/webtoon/list.nhn?titleId=597478&amp;weekday=mon\" title=\"평범한 8반\">평범한 8반</a>,\n",
              " <a href=\"/webtoon/list.nhn?titleId=739115&amp;weekday=mon\" title=\"앵무살수\">앵무살수</a>,\n",
              " <a href=\"/webtoon/list.nhn?titleId=743025&amp;weekday=mon\" title=\"야자괴담\">야자괴담</a>,\n",
              " <a href=\"/webtoon/list.nhn?titleId=743031&amp;weekday=mon\" title=\"사장님을 잠금해제\">사장님을 잠금...</a>,\n",
              " <a href=\"/webtoon/list.nhn?titleId=713975&amp;weekday=mon\" title=\"데드라이프\">데드라이프</a>,\n",
              " <a href=\"/webtoon/list.nhn?titleId=702422&amp;weekday=mon\" title=\"니편내편\">니편내편</a>,\n",
              " <a href=\"/webtoon/list.nhn?titleId=694946&amp;weekday=mon\" title=\"귀전구담\">귀전구담</a>,\n",
              " <a href=\"/webtoon/list.nhn?titleId=745654&amp;weekday=mon\" title=\"백호랑\">백호랑</a>,\n",
              " <a href=\"/webtoon/list.nhn?titleId=714185&amp;weekday=mon\" title=\"링크보이\">링크보이</a>,\n",
              " <a href=\"/webtoon/list.nhn?titleId=744320&amp;weekday=mon\" title=\"와이키키 뱀파이어\">와이키키 뱀파...</a>,\n",
              " <a href=\"/webtoon/list.nhn?titleId=703849&amp;weekday=mon\" title=\"요리GO\">요리GO</a>,\n",
              " <a href=\"/webtoon/list.nhn?titleId=21815&amp;weekday=mon\" title=\"히어로메이커\">히어로메이커</a>,\n",
              " <a href=\"/webtoon/list.nhn?titleId=746786&amp;weekday=mon\" title=\"두근두근 네가 좋아서\">두근두근 네가...</a>,\n",
              " <a href=\"/webtoon/list.nhn?titleId=727826&amp;weekday=mon\" title=\"교환일기\">교환일기</a>,\n",
              " <a href=\"/webtoon/list.nhn?titleId=727836&amp;weekday=mon\" title=\"첫사랑입니다만\">첫사랑입니다만</a>,\n",
              " <a href=\"/webtoon/list.nhn?titleId=700858&amp;weekday=mon\" title=\"닥터 하운드\">닥터 하운드</a>,\n",
              " <a href=\"/webtoon/list.nhn?titleId=721949&amp;weekday=mon\" title=\"일진이 사나워\">일진이 사나워</a>,\n",
              " <a href=\"/webtoon/list.nhn?titleId=738809&amp;weekday=mon\" title=\"아는 여자애\">아는 여자애</a>,\n",
              " <a href=\"/webtoon/list.nhn?titleId=745474&amp;weekday=mon\" title=\"서브 콤플렉스\">서브 콤플렉스</a>,\n",
              " <a href=\"/webtoon/list.nhn?titleId=730465&amp;weekday=mon\" title=\"지옥\">지옥</a>,\n",
              " <a href=\"/webtoon/list.nhn?titleId=741891&amp;weekday=mon\" title=\"결혼생활 그림일기\">결혼생활 그림...</a>,\n",
              " <a href=\"/webtoon/list.nhn?titleId=726212&amp;weekday=mon\" title=\"삶이 우리를 속일지라도\">삶이 우리를 ...</a>,\n",
              " <a href=\"/webtoon/list.nhn?titleId=698888&amp;weekday=mon\" title=\"이것도 친구라고\">이것도 친구라고</a>,\n",
              " <a href=\"/webtoon/list.nhn?titleId=728007&amp;weekday=mon\" title=\"도플갱어의 게임\">도플갱어의 게임</a>,\n",
              " <a href=\"/webtoon/list.nhn?titleId=742889&amp;weekday=mon\" title=\"노력의 결과\">노력의 결과</a>,\n",
              " <a href=\"/webtoon/list.nhn?titleId=687915&amp;weekday=mon\" title=\"꿈의 기업\">꿈의 기업</a>,\n",
              " <a href=\"/webtoon/list.nhn?titleId=727838&amp;weekday=mon\" title=\"위대한 방옥숙\">위대한 방옥숙</a>,\n",
              " <a href=\"/webtoon/list.nhn?titleId=706590&amp;weekday=mon\" title=\"피플\">피플</a>,\n",
              " <a href=\"/webtoon/list.nhn?titleId=733078&amp;weekday=mon\" title=\"정보전사 202\">정보전사 202</a>,\n",
              " <a href=\"/webtoon/list.nhn?titleId=726189&amp;weekday=mon\" title=\"요괴대전\">요괴대전</a>,\n",
              " <a href=\"/webtoon/list.nhn?titleId=734399&amp;weekday=mon\" title=\"여기 악마가 있어\">여기 악마가 ...</a>,\n",
              " <a href=\"/webtoon/list.nhn?titleId=738488&amp;weekday=mon\" title=\"지구멸망버튼\">지구멸망버튼</a>,\n",
              " <a href=\"/webtoon/list.nhn?titleId=730391&amp;weekday=mon\" title=\"하슬라\">하슬라</a>,\n",
              " <a href=\"/webtoon/list.nhn?titleId=744375&amp;weekday=mon\" title=\"결백한 사람은 없다\">결백한 사람은...</a>,\n",
              " <a href=\"/webtoon/list.nhn?titleId=730811&amp;weekday=mon\" title=\"사소한 냐냐\">사소한 냐냐</a>,\n",
              " <a href=\"/webtoon/list.nhn?titleId=740132&amp;weekday=mon\" title=\"중독연구소\">중독연구소</a>,\n",
              " <a href=\"/webtoon/list.nhn?titleId=733770&amp;weekday=mon\" title=\"인간의 온도\">인간의 온도</a>,\n",
              " <a href=\"/webtoon/list.nhn?titleId=737020&amp;weekday=mon\" title=\"물레\">물레</a>,\n",
              " <a href=\"/webtoon/list.nhn?titleId=734918&amp;weekday=mon\" title=\"모락모락 왕세자님\">모락모락 왕세...</a>,\n",
              " <a href=\"/webtoon/list.nhn?titleId=737378&amp;weekday=mon\" title=\"블루투스\">블루투스</a>,\n",
              " <a href=\"/webtoon/list.nhn?titleId=721455&amp;weekday=mon\" title=\"뱀파이어의 꽃\">뱀파이어의 꽃</a>]"
            ]
          },
          "metadata": {
            "tags": []
          },
          "execution_count": 2
        }
      ]
    },
    {
      "cell_type": "code",
      "metadata": {
        "id": "6BOh7rg-sLYu",
        "colab_type": "code",
        "colab": {}
      },
      "source": [
        "data_list = []\n",
        "for title, author, rating in zip(title_tag, author_tag, rating_tag):\n",
        "  data = {\n",
        "      'title' : title.text,\n",
        "      'author' : author.text,\n",
        "      'rating' : rating.text,\n",
        "  }\n",
        "  data_list.append(data)"
      ],
      "execution_count": 0,
      "outputs": []
    },
    {
      "cell_type": "code",
      "metadata": {
        "id": "GXQODOHNrs-c",
        "colab_type": "code",
        "outputId": "3f2e23de-9934-4453-b0c1-59090f012ace",
        "colab": {
          "base_uri": "https://localhost:8080/",
          "height": 907
        }
      },
      "source": [
        "data_list"
      ],
      "execution_count": 4,
      "outputs": [
        {
          "output_type": "execute_result",
          "data": {
            "text/plain": [
              "[{'author': '박태준 / 전선욱', 'rating': '9.81', 'title': '인생존망'},\n",
              " {'author': '전체보기', 'rating': '9.94', 'title': '신의 탑'},\n",
              " {'author': 'SIU', 'rating': '9.89', 'title': '윈드브레이커'},\n",
              " {'author': '전체보기', 'rating': '9.98', 'title': '소녀의 세계'},\n",
              " {'author': '조용석', 'rating': '9.82', 'title': '뷰티풀 군바리'},\n",
              " {'author': '전체보기', 'rating': '9.87', 'title': '백수세끼'},\n",
              " {'author': '모랑지', 'rating': '9.97', 'title': '장씨세가 호위...'},\n",
              " {'author': '전체보기', 'rating': '9.92', 'title': '악취'},\n",
              " {'author': '설이 / 윤성원', 'rating': '9.97', 'title': '칼가는 소녀'},\n",
              " {'author': '전체보기', 'rating': '9.99', 'title': '유일무이 로맨스'},\n",
              " {'author': '치즈', 'rating': '9.85', 'title': '평범한 8반'},\n",
              " {'author': '전체보기', 'rating': '9.97', 'title': '앵무살수'},\n",
              " {'author': '조형근 / 김인호', 'rating': '9.95', 'title': '야자괴담'},\n",
              " {'author': '전체보기', 'rating': '9.93', 'title': '사장님을 잠금...'},\n",
              " {'author': '디귿', 'rating': '9.82', 'title': '데드라이프'},\n",
              " {'author': '전체보기', 'rating': '9.92', 'title': '니편내편'},\n",
              " {'author': '오리', 'rating': '9.98', 'title': '귀전구담'},\n",
              " {'author': '전체보기', 'rating': '9.87', 'title': '백호랑'},\n",
              " {'author': '두부', 'rating': '9.88', 'title': '링크보이'},\n",
              " {'author': '전체보기', 'rating': '9.95', 'title': '와이키키 뱀파...'},\n",
              " {'author': '영파카', 'rating': '9.92', 'title': '요리GO'},\n",
              " {'author': '전체보기', 'rating': '9.96', 'title': '히어로메이커'},\n",
              " {'author': '김성진', 'rating': '9.74', 'title': '두근두근 네가...'},\n",
              " {'author': '전체보기', 'rating': '9.94', 'title': '교환일기'},\n",
              " {'author': '이도광', 'rating': '9.93', 'title': '첫사랑입니다만'},\n",
              " {'author': '전체보기', 'rating': '9.98', 'title': '닥터 하운드'},\n",
              " {'author': '박성현', 'rating': '9.80', 'title': '일진이 사나워'},\n",
              " {'author': '전체보기', 'rating': '9.98', 'title': '아는 여자애'},\n",
              " {'author': '후렛샤 / 임진국', 'rating': '9.86', 'title': '서브 콤플렉스'},\n",
              " {'author': '전체보기', 'rating': '9.73', 'title': '지옥'},\n",
              " {'author': '미티', 'rating': '9.86', 'title': '결혼생활 그림...'},\n",
              " {'author': '전체보기', 'rating': '9.93', 'title': '삶이 우리를 ...'},\n",
              " {'author': 'QTT', 'rating': '9.96', 'title': '이것도 친구라고'},\n",
              " {'author': '전체보기', 'rating': '9.93', 'title': '도플갱어의 게임'},\n",
              " {'author': '박혬', 'rating': '9.94', 'title': '노력의 결과'},\n",
              " {'author': '전체보기', 'rating': '9.97', 'title': '꿈의 기업'},\n",
              " {'author': '광진 / 두엽', 'rating': '9.95', 'title': '위대한 방옥숙'},\n",
              " {'author': '전체보기', 'rating': '9.89', 'title': '피플'},\n",
              " {'author': '요니요니', 'rating': '8.39', 'title': '정보전사 202'},\n",
              " {'author': '전체보기', 'rating': '9.74', 'title': '요괴대전'},\n",
              " {'author': 'HO9', 'rating': '9.91', 'title': '여기 악마가 ...'},\n",
              " {'author': '전체보기', 'rating': '9.68', 'title': '지구멸망버튼'},\n",
              " {'author': '빤쓰', 'rating': '9.93', 'title': '하슬라'},\n",
              " {'author': '전체보기', 'rating': '9.90', 'title': '결백한 사람은...'},\n",
              " {'author': '서혜은 / 박래모', 'rating': '9.86', 'title': '사소한 냐냐'},\n",
              " {'author': '전체보기', 'rating': '9.87', 'title': '중독연구소'},\n",
              " {'author': '한끼룩', 'rating': '9.91', 'title': '인간의 온도'},\n",
              " {'author': '전체보기', 'rating': '9.75', 'title': '물레'},\n",
              " {'author': '산차', 'rating': '9.88', 'title': '모락모락 왕세...'},\n",
              " {'author': '전체보기', 'rating': '8.62', 'title': '블루투스'},\n",
              " {'author': '아루아니 / 레임', 'rating': '9.83', 'title': '뱀파이어의 꽃'}]"
            ]
          },
          "metadata": {
            "tags": []
          },
          "execution_count": 4
        }
      ]
    },
    {
      "cell_type": "markdown",
      "metadata": {
        "id": "rJ5gC7gxrvg6",
        "colab_type": "text"
      },
      "source": [
        "과제1. author가 전체보기로 되어있는 데이터는 webtoon_list에서 모두 삭제해주세요.\n",
        "\n",
        "과제2. rating이 9.9 이상인 웹툰의 제목 따로 recommended 변수에 담아주세요.\n",
        "\n",
        "과제3(추가과제). rating이 제일 높은 데이터 3개만 top_recommended에 담아주세요."
      ]
    },
    {
      "cell_type": "code",
      "metadata": {
        "id": "rlfxj7yWKIPt",
        "colab_type": "code",
        "outputId": "25d41f27-d0a6-4a08-9fcc-1b9897eab18c",
        "colab": {
          "base_uri": "https://localhost:8080/",
          "height": 54
        }
      },
      "source": [
        "# 과제1\n",
        "for x in data_list:\n",
        "  if x['author'] == '전체보기':\n",
        "    del x\n",
        "print(data_list)"
      ],
      "execution_count": 5,
      "outputs": [
        {
          "output_type": "stream",
          "text": [
            "[{'title': '인생존망', 'author': '박태준 / 전선욱', 'rating': '9.81'}, {'title': '신의 탑', 'author': '전체보기', 'rating': '9.94'}, {'title': '윈드브레이커', 'author': 'SIU', 'rating': '9.89'}, {'title': '소녀의 세계', 'author': '전체보기', 'rating': '9.98'}, {'title': '뷰티풀 군바리', 'author': '조용석', 'rating': '9.82'}, {'title': '백수세끼', 'author': '전체보기', 'rating': '9.87'}, {'title': '장씨세가 호위...', 'author': '모랑지', 'rating': '9.97'}, {'title': '악취', 'author': '전체보기', 'rating': '9.92'}, {'title': '칼가는 소녀', 'author': '설이 / 윤성원', 'rating': '9.97'}, {'title': '유일무이 로맨스', 'author': '전체보기', 'rating': '9.99'}, {'title': '평범한 8반', 'author': '치즈', 'rating': '9.85'}, {'title': '앵무살수', 'author': '전체보기', 'rating': '9.97'}, {'title': '야자괴담', 'author': '조형근 / 김인호', 'rating': '9.95'}, {'title': '사장님을 잠금...', 'author': '전체보기', 'rating': '9.93'}, {'title': '데드라이프', 'author': '디귿', 'rating': '9.82'}, {'title': '니편내편', 'author': '전체보기', 'rating': '9.92'}, {'title': '귀전구담', 'author': '오리', 'rating': '9.98'}, {'title': '백호랑', 'author': '전체보기', 'rating': '9.87'}, {'title': '링크보이', 'author': '두부', 'rating': '9.88'}, {'title': '와이키키 뱀파...', 'author': '전체보기', 'rating': '9.95'}, {'title': '요리GO', 'author': '영파카', 'rating': '9.92'}, {'title': '히어로메이커', 'author': '전체보기', 'rating': '9.96'}, {'title': '두근두근 네가...', 'author': '김성진', 'rating': '9.74'}, {'title': '교환일기', 'author': '전체보기', 'rating': '9.94'}, {'title': '첫사랑입니다만', 'author': '이도광', 'rating': '9.93'}, {'title': '닥터 하운드', 'author': '전체보기', 'rating': '9.98'}, {'title': '일진이 사나워', 'author': '박성현', 'rating': '9.80'}, {'title': '아는 여자애', 'author': '전체보기', 'rating': '9.98'}, {'title': '서브 콤플렉스', 'author': '후렛샤 / 임진국', 'rating': '9.86'}, {'title': '지옥', 'author': '전체보기', 'rating': '9.73'}, {'title': '결혼생활 그림...', 'author': '미티', 'rating': '9.86'}, {'title': '삶이 우리를 ...', 'author': '전체보기', 'rating': '9.93'}, {'title': '이것도 친구라고', 'author': 'QTT', 'rating': '9.96'}, {'title': '도플갱어의 게임', 'author': '전체보기', 'rating': '9.93'}, {'title': '노력의 결과', 'author': '박혬', 'rating': '9.94'}, {'title': '꿈의 기업', 'author': '전체보기', 'rating': '9.97'}, {'title': '위대한 방옥숙', 'author': '광진 / 두엽', 'rating': '9.95'}, {'title': '피플', 'author': '전체보기', 'rating': '9.89'}, {'title': '정보전사 202', 'author': '요니요니', 'rating': '8.39'}, {'title': '요괴대전', 'author': '전체보기', 'rating': '9.74'}, {'title': '여기 악마가 ...', 'author': 'HO9', 'rating': '9.91'}, {'title': '지구멸망버튼', 'author': '전체보기', 'rating': '9.68'}, {'title': '하슬라', 'author': '빤쓰', 'rating': '9.93'}, {'title': '결백한 사람은...', 'author': '전체보기', 'rating': '9.90'}, {'title': '사소한 냐냐', 'author': '서혜은 / 박래모', 'rating': '9.86'}, {'title': '중독연구소', 'author': '전체보기', 'rating': '9.87'}, {'title': '인간의 온도', 'author': '한끼룩', 'rating': '9.91'}, {'title': '물레', 'author': '전체보기', 'rating': '9.75'}, {'title': '모락모락 왕세...', 'author': '산차', 'rating': '9.88'}, {'title': '블루투스', 'author': '전체보기', 'rating': '8.62'}, {'title': '뱀파이어의 꽃', 'author': '아루아니 / 레임', 'rating': '9.83'}]\n"
          ],
          "name": "stdout"
        }
      ]
    },
    {
      "cell_type": "code",
      "metadata": {
        "id": "ccIxVUb7K3yH",
        "colab_type": "code",
        "outputId": "b79c88ec-1726-4601-9062-921a41c79b69",
        "colab": {
          "base_uri": "https://localhost:8080/",
          "height": 54
        }
      },
      "source": [
        "# 과제2 : rating이 9.9 이상인 웹툰의 제목 따로 recommended 변수에 담아주세요.\n",
        "recommended = []\n",
        "for i in range(len(data_list)):\n",
        "  if float(data_list[i]['rating']) >= 9.9:\n",
        "      recommended.append(data_list[i]['title'])\n",
        "\n",
        "print(recommended)\n"
      ],
      "execution_count": 6,
      "outputs": [
        {
          "output_type": "stream",
          "text": [
            "['신의 탑', '소녀의 세계', '장씨세가 호위...', '악취', '칼가는 소녀', '유일무이 로맨스', '앵무살수', '야자괴담', '사장님을 잠금...', '니편내편', '귀전구담', '와이키키 뱀파...', '요리GO', '히어로메이커', '교환일기', '첫사랑입니다만', '닥터 하운드', '아는 여자애', '삶이 우리를 ...', '이것도 친구라고', '도플갱어의 게임', '노력의 결과', '꿈의 기업', '위대한 방옥숙', '여기 악마가 ...', '하슬라', '결백한 사람은...', '인간의 온도']\n"
          ],
          "name": "stdout"
        }
      ]
    },
    {
      "cell_type": "code",
      "metadata": {
        "id": "F8pIHMXrLsGQ",
        "colab_type": "code",
        "outputId": "a4ca4890-3e34-4cbd-8223-6dc18d7eee48",
        "colab": {
          "base_uri": "https://localhost:8080/",
          "height": 34
        }
      },
      "source": [
        "# 과제3(추가과제). rating이 제일 높은 데이터 3개만 top_recommended에 담아주세요.(rating만)\n",
        "top_recommended = []\n",
        "tmp = []\n",
        "for i in range(len(data_list)):\n",
        "  value = float(data_list[i]['rating'])\n",
        "  tmp.append(value)\n",
        "for _ in range(3):\n",
        "  top_recommended.append(max(tmp))\n",
        "  tmp.remove(max(tmp))\n",
        "print(top_recommended)"
      ],
      "execution_count": 7,
      "outputs": [
        {
          "output_type": "stream",
          "text": [
            "[9.99, 9.98, 9.98]\n"
          ],
          "name": "stdout"
        }
      ]
    },
    {
      "cell_type": "code",
      "metadata": {
        "id": "1M2zik4uMT-W",
        "colab_type": "code",
        "outputId": "927505e0-77d9-402b-f16a-4e3480dd32f3",
        "colab": {
          "base_uri": "https://localhost:8080/",
          "height": 54
        }
      },
      "source": [
        "# 과제3(추가과제). rating이 제일 높은 데이터 3개만 top_recommended에 담아주세요.(웹툰 데이터)\n",
        "# for loop에서 list index out of range 가 안 나도록 이미 max인 값을 체크한 후에는 0으로 변경\n",
        "top_recommended = []\n",
        "tmp = []\n",
        "for i in range(len(data_list)):\n",
        "  value = float(data_list[i]['rating'])\n",
        "  tmp.append(value)\n",
        "for i in range(len(tmp)):\n",
        "  if len(top_recommended) == 3:\n",
        "      break\n",
        "  if tmp[i] == max(tmp):\n",
        "    top_recommended.append(data_list[i])\n",
        "    tmp[i] = 0    \n",
        "    \n",
        "print(top_recommended)"
      ],
      "execution_count": 8,
      "outputs": [
        {
          "output_type": "stream",
          "text": [
            "[{'title': '유일무이 로맨스', 'author': '전체보기', 'rating': '9.99'}, {'title': '귀전구담', 'author': '오리', 'rating': '9.98'}, {'title': '닥터 하운드', 'author': '전체보기', 'rating': '9.98'}]\n"
          ],
          "name": "stdout"
        }
      ]
    },
    {
      "cell_type": "code",
      "metadata": {
        "id": "pXhNkodryEXR",
        "colab_type": "code",
        "colab": {
          "base_uri": "https://localhost:8080/",
          "height": 34
        },
        "outputId": "100dd3ec-2558-42e6-ba3d-08737886089a"
      },
      "source": [
        "!python --version"
      ],
      "execution_count": 9,
      "outputs": [
        {
          "output_type": "stream",
          "text": [
            "Python 3.6.9\n"
          ],
          "name": "stdout"
        }
      ]
    }
  ]
}